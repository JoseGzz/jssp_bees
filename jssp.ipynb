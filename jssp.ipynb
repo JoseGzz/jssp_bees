{
 "cells": [
  {
   "cell_type": "code",
   "execution_count": 401,
   "metadata": {
    "collapsed": false
   },
   "outputs": [],
   "source": [
    "import networkx as nx\n",
    "import random"
   ]
  },
  {
   "cell_type": "code",
   "execution_count": 25,
   "metadata": {
    "collapsed": true
   },
   "outputs": [],
   "source": [
    "class CPM(nx.DiGraph):\n",
    "\n",
    "    def __init__(self):\n",
    "        super().__init__()\n",
    "        self._dirty = True\n",
    "        self._makespan = -1\n",
    "        self._criticalPath = None\n",
    "\n",
    "    def add_node(self, *args, **kwargs):\n",
    "        self._dirty = True\n",
    "        super().add_node(*args, **kwargs)\n",
    "\n",
    "    def add_nodes_from(self, *args, **kwargs):\n",
    "        self._dirty = True\n",
    "        super().add_nodes_from(*args, **kwargs)\n",
    "\n",
    "    def add_edge(self, *args):  # , **kwargs):\n",
    "        self._dirty = True\n",
    "        super().add_edge(*args)  # , **kwargs)\n",
    "\n",
    "    def add_edges_from(self, *args, **kwargs):\n",
    "        self._dirty = True\n",
    "        super().add_edges_from(*args, **kwargs)\n",
    "\n",
    "    def remove_node(self, *args, **kwargs):\n",
    "        self._dirty = True\n",
    "        super().remove_node(*args, **kwargs)\n",
    "\n",
    "    def remove_nodes_from(self, *args, **kwargs):\n",
    "        self._dirty = True\n",
    "        super().remove_nodes_from(*args, **kwargs)\n",
    "\n",
    "    def remove_edge(self, *args):  # , **kwargs):\n",
    "        self._dirty = True\n",
    "        super().remove_edge(*args)  # , **kwargs)\n",
    "\n",
    "    def remove_edges_from(self, *args, **kwargs):\n",
    "        self._dirty = True\n",
    "        super().remove_edges_from(*args, **kwargs)\n",
    "\n",
    "    def _forward(self):\n",
    "        for n in nx.topological_sort(self):\n",
    "            S = max([self.node[j]['C']\n",
    "                     for j in self.predecessors(n)], default=0)\n",
    "            self.add_node(n, S=S, C=S + self.node[n]['p'])\n",
    "\n",
    "    def _backward(self):\n",
    "        for n in nx.topological_sort(self, reverse=True):\n",
    "            Cp = min([self.node[j]['Sp']\n",
    "                      for j in self.successors(n)], default=self._makespan)\n",
    "            self.add_node(n, Sp=Cp - self.node[n]['p'], Cp=Cp)\n",
    "\n",
    "    def _computeCriticalPath(self):\n",
    "        G = set()\n",
    "        for n in self:\n",
    "            if self.node[n]['C'] == self.node[n]['Cp']:\n",
    "                G.add(n)\n",
    "        self._criticalPath = self.subgraph(G)\n",
    "\n",
    "    @property\n",
    "    def makespan(self):\n",
    "        if self._dirty:\n",
    "            self._update()\n",
    "        return self._makespan\n",
    "\n",
    "    @property\n",
    "    def criticalPath(self):\n",
    "        if self._dirty:\n",
    "            self._update()\n",
    "        return self._criticalPath\n",
    "\n",
    "    def _update(self):\n",
    "        self._forward()\n",
    "        self._makespan = max(nx.get_node_attributes(self, 'C').values())\n",
    "        self._backward()\n",
    "        self._computeCriticalPath()\n",
    "        self._dirty = False"
   ]
  },
  {
   "cell_type": "code",
   "execution_count": 512,
   "metadata": {
    "collapsed": false
   },
   "outputs": [],
   "source": [
    "def generate_nodes(processes):\n",
    "    graph_nodes  = CPM()\n",
    "    for process in processes:\n",
    "        graph_nodes.add_node(process[0], p=process[1])\n",
    "    return graph_nodes"
   ]
  },
  {
   "cell_type": "code",
   "execution_count": 513,
   "metadata": {
    "collapsed": false
   },
   "outputs": [],
   "source": [
    "def generate_edges(graph_nodes, no_processes, no_requests):\n",
    "    # obtenemos lista en orden de los nodos\n",
    "    nodes = graph_nodes.nodes()\n",
    "    # creamos lista de listas vacias para organizar el orden de los procesos en comun\n",
    "    node_list = [[] for _ in range(no_processes)]\n",
    "    # separamos los nodos de procesos que pertenecen a cada pedido \n",
    "    adjacency_list = [nodes[i:i + no_processes] for i in range(0, len(nodes), no_processes)]\n",
    "    # creamos los arcos para unir los nodos en el orden establecido por el proceso\n",
    "    for lst in adjacency_list:\n",
    "        for i in range(len(lst)-1):\n",
    "            graph_nodes.add_edges_from([(lst[i], lst[i+1])])\n",
    "    # agrupamos los nodos que pertenecen a la misma operacion para asignarlas al azar\n",
    "    nodes = graph_nodes.nodes()\n",
    "    for i in range(len(node_list)):\n",
    "        for j in range(i, len(nodes), no_processes):\n",
    "            node_list[i].append(nodes[j])\n",
    "    # asignar el orden de uso de cada estacion aleatoriamente\n",
    "    for common_processes in node_list:\n",
    "        random.shuffle(common_processes)\n",
    "        for i in range(len(common_processes)-1):\n",
    "            graph_nodes.add_edges_from([(common_processes[i], common_processes[i+1])])\n",
    "    # regresamos el grafo con precedencias\n",
    "    return graph_nodes, node_list\n"
   ]
  },
  {
   "cell_type": "code",
   "execution_count": 535,
   "metadata": {
    "collapsed": false
   },
   "outputs": [],
   "source": [
    "requests = [(1,50),(2,3),(3,41),(4,94),(5,15),(6,13),(7,34),(8,29),(9,55),(10,73),(11,14),(12,91)]\n",
    "requests2 = [(1,5),(2,3),(3,4),(4,9)]\n",
    "no_processes = 4\n",
    "x = generate_nodes(requests)\n",
    "y, node_list = generate_edges(x,no_processes, int(len(requests)/no_processes))"
   ]
  },
  {
   "cell_type": "code",
   "execution_count": 536,
   "metadata": {
    "collapsed": false
   },
   "outputs": [
    {
     "name": "stdout",
     "output_type": "stream",
     "text": [
      "424\n",
      "[(1, 2), (2, 10), (2, 3), (3, 4), (3, 7), (5, 9), (5, 6), (6, 2), (6, 7), (7, 8), (8, 4), (9, 1), (9, 10), (10, 11), (11, 3), (11, 12), (12, 8)]\n"
     ]
    }
   ],
   "source": [
    "print(y.makespan)\n",
    "print(y.edges())"
   ]
  },
  {
   "cell_type": "code",
   "execution_count": 525,
   "metadata": {
    "collapsed": true
   },
   "outputs": [],
   "source": [
    "def perturbate_solution(graph, node_list):\n",
    "    # seleccionamos un proceso aleatorio para modificar su orden\n",
    "    selected_process = random.randint(0, len(node_list)-1)\n",
    "    # obtenemos los nodos involucrados en el proceso seleccionado\n",
    "    nodes = node_list[selected_process]\n",
    "    # creamos una lista de tuplas con esos nodos para eliminar sus conexiones\n",
    "    tup_list = []\n",
    "    for i in range(len(nodes)-1):\n",
    "        tup_list.append((nodes[i], nodes[i+1]))\n",
    "    # eliminamos las conexiones entre esos nodos\n",
    "    graph.remove_edges_from(tup_list)\n",
    "    # generamos un nuevo orden aleatorio\n",
    "    random.shuffle(nodes)\n",
    "    # creamos las conexiones nuevas en base al nuevo orden aleatorio\n",
    "    for i in range(len(nodes)-1):\n",
    "        graph.add_edges_from([(nodes[i], nodes[i+1])])        \n",
    "    return graph, nodes"
   ]
  },
  {
   "cell_type": "code",
   "execution_count": 526,
   "metadata": {
    "collapsed": false
   },
   "outputs": [
    {
     "data": {
      "text/plain": [
       "465"
      ]
     },
     "execution_count": 526,
     "metadata": {},
     "output_type": "execute_result"
    }
   ],
   "source": [
    "g, nodes = perturbate_solution(y, node_list)\n",
    "g.makespan"
   ]
  },
  {
   "cell_type": "code",
   "execution_count": 532,
   "metadata": {
    "collapsed": false
   },
   "outputs": [
    {
     "data": {
      "text/plain": [
       "421"
      ]
     },
     "execution_count": 532,
     "metadata": {},
     "output_type": "execute_result"
    }
   ],
   "source": [
    "g, nodes = perturbate_solution(g, node_list)\n",
    "g.makespan"
   ]
  },
  {
   "cell_type": "code",
   "execution_count": null,
   "metadata": {
    "collapsed": true
   },
   "outputs": [],
   "source": []
  }
 ],
 "metadata": {
  "anaconda-cloud": {},
  "kernelspec": {
   "display_name": "Python [conda root]",
   "language": "python",
   "name": "conda-root-py"
  },
  "language_info": {
   "codemirror_mode": {
    "name": "ipython",
    "version": 3
   },
   "file_extension": ".py",
   "mimetype": "text/x-python",
   "name": "python",
   "nbconvert_exporter": "python",
   "pygments_lexer": "ipython3",
   "version": "3.5.2"
  }
 },
 "nbformat": 4,
 "nbformat_minor": 1
}
