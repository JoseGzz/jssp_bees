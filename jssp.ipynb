{
 "cells": [
  {
   "cell_type": "code",
   "execution_count": 60,
   "metadata": {
    "collapsed": true
   },
   "outputs": [],
   "source": [
    "import networkx as nx\n",
    "import random"
   ]
  },
  {
   "cell_type": "code",
   "execution_count": 61,
   "metadata": {
    "collapsed": true
   },
   "outputs": [],
   "source": [
    "class CPM(nx.DiGraph):\n",
    "    def __init__(self):\n",
    "        super().__init__()\n",
    "        self._dirty = True\n",
    "        self._makespan = -1\n",
    "        self._criticalPath = None\n",
    "\n",
    "    def add_node(self, *args, **kwargs):\n",
    "        self._dirty = True\n",
    "        super().add_node(*args, **kwargs)\n",
    "\n",
    "    def add_nodes_from(self, *args, **kwargs):\n",
    "        self._dirty = True\n",
    "        super().add_nodes_from(*args, **kwargs)\n",
    "\n",
    "    def add_edge(self, *args):  # , **kwargs):\n",
    "        self._dirty = True\n",
    "        super().add_edge(*args)  # , **kwargs)\n",
    "\n",
    "    def add_edges_from(self, *args, **kwargs):\n",
    "        self._dirty = True\n",
    "        super().add_edges_from(*args, **kwargs)\n",
    "\n",
    "    def remove_node(self, *args, **kwargs):\n",
    "        self._dirty = True\n",
    "        super().remove_node(*args, **kwargs)\n",
    "\n",
    "    def remove_nodes_from(self, *args, **kwargs):\n",
    "        self._dirty = True\n",
    "        super().remove_nodes_from(*args, **kwargs)\n",
    "\n",
    "    def remove_edge(self, *args):  # , **kwargs):\n",
    "        self._dirty = True\n",
    "        super().remove_edge(*args)  # , **kwargs)\n",
    "\n",
    "    def remove_edges_from(self, *args, **kwargs):\n",
    "        self._dirty = True\n",
    "        super().remove_edges_from(*args, **kwargs)\n",
    "\n",
    "    def _forward(self):\n",
    "        for n in nx.topological_sort(self):\n",
    "            S = max([self.node[j]['C']\n",
    "                     for j in self.predecessors(n)], default=0)\n",
    "            self.add_node(n, S=S, C=S + self.node[n]['p'])\n",
    "\n",
    "    def _backward(self):\n",
    "        for n in nx.topological_sort(self, reverse=True):\n",
    "            Cp = min([self.node[j]['Sp']\n",
    "                      for j in self.successors(n)], default=self._makespan)\n",
    "            self.add_node(n, Sp=Cp - self.node[n]['p'], Cp=Cp)\n",
    "\n",
    "    def _computeCriticalPath(self):\n",
    "        G = set()\n",
    "        for n in self:\n",
    "            if self.node[n]['C'] == self.node[n]['Cp']:\n",
    "                G.add(n)\n",
    "        self._criticalPath = self.subgraph(G)\n",
    "\n",
    "    @property\n",
    "    def makespan(self):\n",
    "        if self._dirty:\n",
    "            self._update()\n",
    "        return self._makespan\n",
    "\n",
    "    @property\n",
    "    def criticalPath(self):\n",
    "        if self._dirty:\n",
    "            self._update()\n",
    "        return self._criticalPath\n",
    "\n",
    "    def _update(self):\n",
    "        self._forward()\n",
    "        self._makespan = max(nx.get_node_attributes(self, 'C').values())\n",
    "        self._backward()\n",
    "        self._computeCriticalPath()\n",
    "        self._dirty = False"
   ]
  },
  {
   "cell_type": "code",
   "execution_count": 62,
   "metadata": {
    "collapsed": true
   },
   "outputs": [],
   "source": [
    "def generate_nodes(processes):\n",
    "    graph_nodes = CPM()\n",
    "    for process in processes:\n",
    "        graph_nodes.add_node(process[0], p=process[1])\n",
    "    return graph_nodes"
   ]
  },
  {
   "cell_type": "code",
   "execution_count": 63,
   "metadata": {
    "collapsed": true
   },
   "outputs": [],
   "source": [
    "def generate_random_solution(graph_nodes, no_processes, no_requests):\n",
    "    # obtenemos lista en orden de los nodos\n",
    "    nodes = graph_nodes.nodes()\n",
    "    # creamos lista de listas vacias para organizar el orden de los procesos en comun\n",
    "    node_list = [[] for _ in range(no_processes)]\n",
    "    # separamos los nodos de procesos que pertenecen a cada pedido \n",
    "    adjacency_list = [nodes[i:i + no_processes] for i in range(0, len(nodes), no_processes)]\n",
    "    # creamos los arcos para unir los nodos en el orden establecido por el proceso\n",
    "    for lst in adjacency_list:\n",
    "        for i in range(len(lst)-1):\n",
    "            graph_nodes.add_edges_from([(lst[i], lst[i+1])])\n",
    "    # agrupamos los nodos que pertenecen a la misma operacion para asignarlas al azar\n",
    "    nodes = graph_nodes.nodes()\n",
    "    for i in range(len(node_list)):\n",
    "        for j in range(i, len(nodes), no_processes):\n",
    "            node_list[i].append(nodes[j])\n",
    "    # asignar el orden de uso de cada estacion aleatoriamente\n",
    "    for common_processes in node_list:\n",
    "        random.shuffle(common_processes)\n",
    "        for i in range(len(common_processes)-1):\n",
    "            graph_nodes.add_edges_from([(common_processes[i], common_processes[i+1])])\n",
    "    # regresamos el grafo con precedencias\n",
    "    return graph_nodes, node_list\n"
   ]
  },
  {
   "cell_type": "code",
   "execution_count": 142,
   "metadata": {},
   "outputs": [
    {
     "name": "stdout",
     "output_type": "stream",
     "text": [
      "[(1, 2), (1, 5), (2, 3), (2, 10), (3, 4), (3, 11), (4, 12), (5, 6), (5, 9), (6, 7), (6, 2), (7, 8), (9, 10), (10, 11), (11, 12), (11, 7), (12, 8)]\n"
     ]
    }
   ],
   "source": [
    "requests = [(1,50),(2,3),(3,41),(4,94),(5,15),(6,13),(7,34),(8,29),(9,55),(10,73),(11,14),(12,91)]\n",
    "requests2 = [(1,5),(2,3),(3,4),(4,9)]\n",
    "no_processes = 4\n",
    "x = generate_nodes(requests)\n",
    "y, node_list = generate_random_solution(x, no_processes, int(len(requests)/no_processes))\n",
    "print(x.edges())"
   ]
  },
  {
   "cell_type": "code",
   "execution_count": 131,
   "metadata": {},
   "outputs": [
    {
     "name": "stdout",
     "output_type": "stream",
     "text": [
      "363\n",
      "[(1, 2), (1, 5), (2, 3), (2, 10), (3, 4), (3, 11), (4, 12), (5, 6), (6, 7), (7, 8), (9, 10), (9, 1), (10, 11), (10, 6), (11, 12), (11, 7), (12, 8)]\n"
     ]
    }
   ],
   "source": [
    "print(y.makespan)\n",
    "print(y.edges())"
   ]
  },
  {
   "cell_type": "code",
   "execution_count": 132,
   "metadata": {
    "collapsed": true
   },
   "outputs": [],
   "source": [
    "def perturbate_solution(graph, node_list, patch_size):\n",
    "    while patch_size > 0:\n",
    "        # seleccionamos un proceso aleatorio para modificar su orden\n",
    "        selected_process = random.randint(0, len(node_list)-1)\n",
    "        # obtenemos los nodos involucrados en el proceso seleccionado\n",
    "        nodes = node_list[selected_process]\n",
    "        #print(node_list)\n",
    "        # creamos una lista de tuplas con esos nodos para eliminar sus conexiones\n",
    "        tup_list = []\n",
    "        for i in range(len(nodes)-1):\n",
    "            tup_list.append((nodes[i], nodes[i+1]))\n",
    "        # eliminamos las conexiones entre esos nodos\n",
    "        graph.remove_edges_from(tup_list)\n",
    "        # generamos un nuevo orden aleatorio\n",
    "        random.shuffle(nodes)\n",
    "        # creamos las conexiones nuevas en base al nuevo orden aleatorio\n",
    "        for i in range(len(nodes)-1):\n",
    "            graph.add_edges_from([(nodes[i], nodes[i+1])])\n",
    "        patch_size -= 1\n",
    "        node_list[selected_process] = nodes\n",
    "    return graph, node_list"
   ]
  },
  {
   "cell_type": "code",
   "execution_count": 133,
   "metadata": {},
   "outputs": [
    {
     "data": {
      "text/plain": [
       "391"
      ]
     },
     "execution_count": 133,
     "metadata": {},
     "output_type": "execute_result"
    }
   ],
   "source": [
    "g, nodes = perturbate_solution(y, node_list, 2)\n",
    "g.makespan"
   ]
  },
  {
   "cell_type": "code",
   "execution_count": 134,
   "metadata": {},
   "outputs": [
    {
     "data": {
      "text/plain": [
       "378"
      ]
     },
     "execution_count": 134,
     "metadata": {},
     "output_type": "execute_result"
    }
   ],
   "source": [
    "g, nodes = perturbate_solution(g, node_list, 2)\n",
    "g.makespan"
   ]
  },
  {
   "cell_type": "code",
   "execution_count": 163,
   "metadata": {},
   "outputs": [
    {
     "name": "stdout",
     "output_type": "stream",
     "text": [
      " > it=1, patch_size=2.85, f=356\n",
      " > it=2, patch_size=2.7075, f=356\n",
      " > it=3, patch_size=2.57212, f=356\n",
      " > it=4, patch_size=2.44352, f=356\n",
      " > it=5, patch_size=2.32134, f=356\n",
      " > it=6, patch_size=2.20528, f=327\n",
      " > it=7, patch_size=2.09501, f=323\n",
      " > it=8, patch_size=1.99026, f=323\n",
      " > it=9, patch_size=1.89075, f=323\n",
      " > it=10, patch_size=1.79621, f=323\n",
      " > it=11, patch_size=1.7064, f=298\n",
      " > it=12, patch_size=1.62108, f=298\n",
      " > it=13, patch_size=1.54003, f=298\n",
      " > it=14, patch_size=1.46302, f=298\n",
      " > it=15, patch_size=1.38987, f=298\n",
      " > it=16, patch_size=1.32038, f=298\n",
      " > it=17, patch_size=1.25436, f=298\n",
      " > it=18, patch_size=1.19164, f=298\n",
      " > it=19, patch_size=1.13206, f=298\n",
      " > it=20, patch_size=1.07546, f=298\n",
      " > it=21, patch_size=1.02168, f=298\n",
      " > it=22, patch_size=0.970601, f=298\n",
      " > it=23, patch_size=0.922071, f=298\n",
      " > it=24, patch_size=0.875967, f=298\n",
      " > it=25, patch_size=0.832169, f=298\n",
      " > it=26, patch_size=0.79056, f=298\n",
      " > it=27, patch_size=0.751032, f=298\n",
      " > it=28, patch_size=0.713481, f=298\n",
      " > it=29, patch_size=0.677807, f=298\n",
      " > it=30, patch_size=0.643916, f=298\n",
      " > it=31, patch_size=0.61172, f=298\n",
      " > it=32, patch_size=0.581134, f=298\n",
      " > it=33, patch_size=0.552078, f=298\n",
      " > it=34, patch_size=0.524474, f=298\n",
      " > it=35, patch_size=0.49825, f=298\n",
      " > it=36, patch_size=0.473338, f=298\n",
      " > it=37, patch_size=0.449671, f=298\n",
      " > it=38, patch_size=0.427187, f=298\n",
      " > it=39, patch_size=0.405828, f=298\n",
      " > it=40, patch_size=0.385536, f=298\n",
      " > it=41, patch_size=0.36626, f=298\n",
      " > it=42, patch_size=0.347947, f=298\n",
      " > it=43, patch_size=0.330549, f=298\n",
      " > it=44, patch_size=0.314022, f=298\n",
      " > it=45, patch_size=0.298321, f=298\n",
      " > it=46, patch_size=0.283405, f=298\n",
      " > it=47, patch_size=0.269234, f=298\n",
      " > it=48, patch_size=0.255773, f=298\n",
      " > it=49, patch_size=0.242984, f=298\n",
      " > it=50, patch_size=0.230835, f=298\n",
      " > it=51, patch_size=0.219293, f=298\n",
      " > it=52, patch_size=0.208329, f=298\n",
      " > it=53, patch_size=0.197912, f=298\n",
      " > it=54, patch_size=0.188016, f=298\n",
      " > it=55, patch_size=0.178616, f=298\n",
      " > it=56, patch_size=0.169685, f=298\n",
      " > it=57, patch_size=0.161201, f=298\n",
      " > it=58, patch_size=0.153141, f=298\n",
      " > it=59, patch_size=0.145484, f=298\n",
      " > it=60, patch_size=0.138209, f=298\n",
      " > it=61, patch_size=0.131299, f=298\n",
      " > it=62, patch_size=0.124734, f=298\n",
      " > it=63, patch_size=0.118497, f=298\n",
      " > it=64, patch_size=0.112572, f=298\n",
      " > it=65, patch_size=0.106944, f=298\n",
      " > it=66, patch_size=0.101597, f=298\n",
      " > it=67, patch_size=0.0965168, f=298\n",
      " > it=68, patch_size=0.0916909, f=298\n",
      " > it=69, patch_size=0.0871064, f=298\n",
      " > it=70, patch_size=0.0827511, f=298\n",
      " > it=71, patch_size=0.0786135, f=298\n",
      " > it=72, patch_size=0.0746828, f=298\n",
      " > it=73, patch_size=0.0709487, f=298\n",
      " > it=74, patch_size=0.0674013, f=298\n",
      " > it=75, patch_size=0.0640312, f=298\n",
      " > it=76, patch_size=0.0608296, f=298\n",
      " > it=77, patch_size=0.0577882, f=298\n",
      " > it=78, patch_size=0.0548988, f=298\n",
      " > it=79, patch_size=0.0521538, f=298\n",
      " > it=80, patch_size=0.0495461, f=298\n",
      " > it=81, patch_size=0.0470688, f=298\n",
      " > it=82, patch_size=0.0447154, f=298\n",
      " > it=83, patch_size=0.0424796, f=298\n",
      " > it=84, patch_size=0.0403556, f=298\n",
      " > it=85, patch_size=0.0383378, f=298\n",
      " > it=86, patch_size=0.036421, f=298\n",
      " > it=87, patch_size=0.0345999, f=298\n",
      " > it=88, patch_size=0.0328699, f=298\n",
      " > it=89, patch_size=0.0312264, f=298\n",
      " > it=90, patch_size=0.0296651, f=298\n",
      " > it=91, patch_size=0.0281818, f=298\n",
      " > it=92, patch_size=0.0267727, f=298\n",
      " > it=93, patch_size=0.0254341, f=298\n",
      " > it=94, patch_size=0.0241624, f=298\n",
      " > it=95, patch_size=0.0229543, f=298\n",
      " > it=96, patch_size=0.0218066, f=298\n",
      " > it=97, patch_size=0.0207162, f=298\n",
      " > it=98, patch_size=0.0196804, f=298\n",
      " > it=99, patch_size=0.0186964, f=298\n",
      " > it=100, patch_size=0.0177616, f=298\n",
      "Done.\n",
      "Best Solution: f=298, v=[[9, 1, 5], [10, 6, 2], [3, 7, 11], [12, 4, 8]]\n"
     ]
    }
   ],
   "source": [
    "# CLEVER ALGORITHM: Bees Algorithm\n",
    "# Author: Santiago E. Conant-Pablos, October 6, 2015\n",
    "\n",
    "import numpy as np\n",
    "import matplotlib.pyplot as plt\n",
    "\n",
    "def objective_function(graph):\n",
    "    \"\"\"returns value of function to optimize\"\"\"\n",
    "    return graph.makespan\n",
    "\n",
    "def create_random_bee(graph, no_processes, no_orders):\n",
    "    \"\"\"create a random bee position\"\"\"\n",
    "    return generate_random_solution(graph, no_processes, no_orders)\n",
    "\n",
    "def create_neigh_bee(graph, node_list, patch_size):\n",
    "    \"\"\"create a bee inside a neighborhood\"\"\"\n",
    "    return perturbate_solution(graph, node_list, patch_size)\n",
    "\n",
    "def search_neigh(parent, neigh_size, patch_size, node_list):\n",
    "    \"\"\"search inside the neighborhood of a site\"\"\"\n",
    "    neigh = []\n",
    "    for i in range(neigh_size):\n",
    "        bee = list(create_neigh_bee(parent, node_list, patch_size))\n",
    "        if len(bee) < 3:\n",
    "            bee.append(objective_function(bee[0]))\n",
    "        else:\n",
    "            bee[2] = objective_function(bee[0])\n",
    "        neigh.append(bee)\n",
    "    neigh.sort(key=lambda b: b[2])\n",
    "    return neigh[0]\n",
    "\n",
    "def create_scout_bees(requests, no_processes, no_orders, num_scouts):\n",
    "    \"\"\"creates scout bees for new sites\"\"\"\n",
    "    return [create_random_bee(generate_nodes(requests), no_processes, no_orders) for i in range(num_scouts)]\n",
    "\n",
    "def bees_algorithm(max_gens, requests, no_processes, num_bees, num_sites,\n",
    "                   elite_sites, patch_size, patch_dec, e_bees, o_bees):\n",
    "    \"\"\"implements the Bees algorithm\"\"\"\n",
    "    # el mejor encontrado\n",
    "    best = None\n",
    "    # creacion de una poblacion de soluciones aleatorias\n",
    "    no_requests = int(len(requests)/no_processes)\n",
    "    # pop[i] = (graph, solution, fitness); fitness se agrega en el for interno\n",
    "    pop = [create_random_bee(generate_nodes(\n",
    "        requests), no_processes, no_requests\n",
    "    ) for i in range(num_bees)]\n",
    "    \n",
    "    # corre la optimizacion en terminos de generaciones\n",
    "    for gen in range(max_gens):\n",
    "        for bee in range(num_bees):\n",
    "            pop[bee] = list(pop[bee])\n",
    "            #print('---', pop[bee][0].edges())\n",
    "            if len(pop[bee]) < 3:\n",
    "                pop[bee].append(objective_function(pop[bee][0]))\n",
    "            else:\n",
    "                pop[bee][2] = objective_function(pop[bee][0])\n",
    "        pop.sort(key = lambda b: b[2])\n",
    "        #print('rr')\n",
    "        if not best or pop[0][2] < best[2]:\n",
    "            best = pop[0]\n",
    "        next_gen = []\n",
    "        for i, parent in enumerate(pop[:num_sites]):\n",
    "            neigh_size = e_bees if i < elite_sites else o_bees\n",
    "            next_gen.append(search_neigh(parent[0], neigh_size, patch_size, parent[1]))\n",
    "        \n",
    "        scouts = create_scout_bees(requests, no_processes, no_requests, num_bees - num_sites)\n",
    "        pop = next_gen + scouts\n",
    "        patch_size = patch_size * patch_dec\n",
    "        print(\" > it=%d, patch_size=%g, f=%g\" % (gen+1,patch_size,best[2]))\n",
    "    return best\n",
    "\n",
    "# problem configuration\n",
    "#problem_size = 2 # number of variables\n",
    "#search_space = np.array([[-5, +5] for i in range(problem_size)],float) # domains\n",
    "# algorithm configuration\n",
    "max_gens = 100 # maximun number of generations\n",
    "num_bees = 45\n",
    "num_sites = 3\n",
    "elite_sites = 1\n",
    "patch_size = 3.0\n",
    "patch_dec = 0.95 # decrease of patch size in each generation\n",
    "e_bees = 7    # number of elite bees\n",
    "o_bees = 2    # number of other bees\n",
    "no_jobs = 4 # cantidad de operaciones para ensamblaje (incluye varias en paralelo)\n",
    "requests = [(1,50),(2,3),(3,41),(4,94),(5,15),(6,13),(7,34),(8,29),(9,55),(10,73),(11,14),(12,91)]\n",
    "best = bees_algorithm(max_gens, requests, no_jobs, num_bees, num_sites,\n",
    "                      elite_sites, patch_size, patch_dec, e_bees, o_bees)\n",
    "print(\"Done.\\nBest Solution: f=%g, v=%s\" % (best[2], best[1]))"
   ]
  },
  {
   "cell_type": "code",
   "execution_count": 120,
   "metadata": {
    "collapsed": true
   },
   "outputs": [],
   "source": []
  }
 ],
 "metadata": {
  "anaconda-cloud": {},
  "kernelspec": {
   "display_name": "Python 3",
   "language": "python",
   "name": "python3"
  },
  "language_info": {
   "codemirror_mode": {
    "name": "ipython",
    "version": 3
   },
   "file_extension": ".py",
   "mimetype": "text/x-python",
   "name": "python",
   "nbconvert_exporter": "python",
   "pygments_lexer": "ipython3",
   "version": "3.6.1"
  }
 },
 "nbformat": 4,
 "nbformat_minor": 1
}
